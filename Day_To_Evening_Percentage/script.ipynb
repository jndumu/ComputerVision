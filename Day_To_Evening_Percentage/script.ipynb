{
 "cells": [
  {
   "cell_type": "markdown",
   "metadata": {},
   "source": [
    "Problem Statement:\n",
    "\n",
    "Record a video or download a timelapse video of evening where the transition of day to evening or evening to night is visible clearly.\n",
    "\n",
    "Video condition : any of below\n",
    "\n",
    "Day to evening\n",
    "Evening to Night\n",
    "Night to Morning/Day"
   ]
  },
  {
   "cell_type": "code",
   "execution_count": 20,
   "metadata": {},
   "outputs": [
    {
     "name": "stdout",
     "output_type": "stream",
     "text": [
      "Total frames: 601\n",
      "Day frames saved: 326\n",
      "Evening frames saved: 201\n",
      "Night frames saved: 74\n",
      "Day Percentage: 54.24%\n",
      "Evening Percentage: 33.44%\n",
      "Night Percentage: 12.31%\n"
     ]
    }
   ],
   "source": [
    "#!pip install opencv-python\n",
    "#import cv2\n",
    "#import numpy as np\n",
    "#import os\n",
    "\n",
    "\n",
    "# Function to categorize brightness\n",
    "def categorize_brightness(frame):\n",
    "    hsv = cv2.cvtColor(frame, cv2.COLOR_BGR2HSV)\n",
    "    brightness = np.mean(hsv[:, :, 2])\n",
    "    if brightness > 100:  # Start with a lower threshold\n",
    "        return \"Day\"\n",
    "    elif brightness > 50:\n",
    "        return \"Evening\"\n",
    "    else:\n",
    "        return \"Night\"\n",
    "\n",
    "# Data Ingestion\n",
    "video_path = \"video.mp4\"  \n",
    "cap = cv2.VideoCapture(video_path)\n",
    "\n",
    "# Create a folder named 'images' if it doesn't exist, its also optional not necessary just for R&D\n",
    "output_folder = \"images\"\n",
    "os.makedirs(output_folder, exist_ok=True)  \n",
    "\n",
    "# Initialize counters for counting\n",
    "day_count = 0\n",
    "evening_count = 0\n",
    "night_count = 0\n",
    "total_frames = 0\n",
    "\n",
    "# Process the video frames\n",
    "while True:\n",
    "    ret, frame = cap.read()\n",
    "    if not ret:\n",
    "        break  \n",
    "\n",
    "    # Categorize the current frame\n",
    "    category = categorize_brightness(frame)\n",
    "    \n",
    "    # Save the frame as an image based on its category, this step is optional not necessary, just for R&D\n",
    "    if category == \"Day\":\n",
    "        day_count += 1\n",
    "        cv2.imwrite(os.path.join(output_folder, f\"day_frame_{day_count}.jpg\"), frame)  # Save Day frames\n",
    "    elif category == \"Evening\":\n",
    "        evening_count += 1\n",
    "        cv2.imwrite(os.path.join(output_folder, f\"evening_frame_{evening_count}.jpg\"), frame)  # Save Evening frames\n",
    "    else:\n",
    "        night_count += 1\n",
    "        cv2.imwrite(os.path.join(output_folder, f\"night_frame_{night_count}.jpg\"), frame)  # Save Night frames\n",
    "    \n",
    "    total_frames += 1\n",
    "\n",
    "# Release the video capture object\n",
    "cap.release()\n",
    "\n",
    "# Print the results\n",
    "print(f\"Total frames: {total_frames}\")\n",
    "print(f\"Day frames saved: {day_count}\")\n",
    "print(f\"Evening frames saved: {evening_count}\")\n",
    "print(f\"Night frames saved: {night_count}\")\n",
    "\n",
    "# Calculate percentages \n",
    "if total_frames > 0:\n",
    "    day_percentage = (day_count / total_frames) * 100\n",
    "    evening_percentage = (evening_count / total_frames) * 100\n",
    "    night_percentage = (night_count / total_frames) * 100\n",
    "\n",
    "    print(f\"Day Percentage: {day_percentage:.2f}%\")\n",
    "    print(f\"Evening Percentage: {evening_percentage:.2f}%\")\n",
    "    print(f\"Night Percentage: {night_percentage:.2f}%\")\n",
    "else:\n",
    "    print(\"No frames processed.\")"
   ]
  },
  {
   "cell_type": "code",
   "execution_count": null,
   "metadata": {},
   "outputs": [],
   "source": []
  },
  {
   "cell_type": "markdown",
   "metadata": {},
   "source": []
  },
  {
   "cell_type": "markdown",
   "metadata": {},
   "source": [
    "Threshold Conditions: \n",
    "Different lighting conditions can significantly affect the brightness of scenes and detect the specific event\n",
    "\n",
    "Daylight: Bright, often exceeding 200 in the V channel, indicating well-lightening scenes.But due to cloudy we set less threahold as >100\n",
    "Evening: Transitional lighting, where the brightness may vary significantly but often falls >50.\n",
    "Night: Very low brightness, typically below 50, indicating darkness."
   ]
  },
  {
   "cell_type": "markdown",
   "metadata": {},
   "source": [
    "Visualizing the result"
   ]
  },
  {
   "cell_type": "code",
   "execution_count": 21,
   "metadata": {},
   "outputs": [
    {
     "data": {
      "text/plain": [
       "\"\\n# Plot the percentages\\nplt.figure(figsize=(10, 6))\\nplt.bar(['Day', 'Evening', 'Night'], [day_percentage, evening_percentage, night_percentage])\\nplt.title('Percentage of Day, Evening, and Night Frames')\\nplt.xlabel('Frame Categories')\\nplt.ylabel('Percentage')\\nplt.show()\\n\""
      ]
     },
     "execution_count": 21,
     "metadata": {},
     "output_type": "execute_result"
    }
   ],
   "source": [
    "import matplotlib.pyplot as plt\n",
    "\n",
    "\"\"\"\n",
    "# Plot the percentages\n",
    "plt.figure(figsize=(10, 6))\n",
    "plt.bar(['Day', 'Evening', 'Night'], [day_percentage, evening_percentage, night_percentage])\n",
    "plt.title('Percentage of Day, Evening, and Night Frames')\n",
    "plt.xlabel('Frame Categories')\n",
    "plt.ylabel('Percentage')\n",
    "plt.show()\n",
    "\"\"\""
   ]
  },
  {
   "cell_type": "code",
   "execution_count": 22,
   "metadata": {},
   "outputs": [
    {
     "data": {
      "image/png": "[encoded data removed]",
      "text/plain": [
       "<Figure size 800x500 with 1 Axes>"
      ]
     },
     "metadata": {},
     "output_type": "display_data"
    }
   ],
   "source": [
    "\n",
    "labels = ['Day', 'Evening', 'Night']\n",
    "counts = [day_count, evening_count, night_count]\n",
    "plt.figure(figsize=(8, 5))\n",
    "plt.bar(labels, counts, color=['yellow', 'orange', 'blue'])\n",
    "plt.title('Count of Frames by Time of Day')\n",
    "plt.xlabel('Time of Day')\n",
    "plt.ylabel('Count of Frames')\n",
    "plt.ylim(0, max(counts) + 10) \n",
    "plt.grid(axis='y')\n",
    "plt.show()\n",
    "\n"
   ]
  },
  {
   "cell_type": "markdown",
   "metadata": {},
   "source": [
    "Using Grey-Scale\n"
   ]
  },
  {
   "cell_type": "code",
   "execution_count": 23,
   "metadata": {},
   "outputs": [
    {
     "name": "stdout",
     "output_type": "stream",
     "text": [
      "Day: 30.62%\n",
      "Evening: 56.57%\n",
      "Night: 12.81%\n"
     ]
    }
   ],
   "source": [
    "# Function to categorize brightness\n",
    "def categorize_brightness(frame):\n",
    "    # Convert the frame to grayscale\n",
    "    gray_frame = cv2.cvtColor(frame, cv2.COLOR_BGR2GRAY)\n",
    "    \n",
    "    # Calculate the average brightness\n",
    "    brightness = np.mean(gray_frame)  # Mean of pixel values in grayscale\n",
    "    \n",
    "    # Define thresholds for categorization\n",
    "    if brightness > 100:  \n",
    "        return \"Day\"\n",
    "    elif brightness >50:  \n",
    "        return \"Evening\"\n",
    "    else:  \n",
    "        return \"Night\"\n",
    "\n",
    "\n",
    "# Input video file path\n",
    "video_path = \"video.mp4\" \n",
    "cap = cv2.VideoCapture(video_path)\n",
    "\n",
    "# Initialize counters\n",
    "day_count = 0\n",
    "evening_count = 0\n",
    "night_count = 0\n",
    "total_frames = 0\n",
    "\n",
    "# Process the video frames\n",
    "while True:\n",
    "    ret, frame = cap.read()\n",
    "    if not ret:\n",
    "        break  \n",
    "\n",
    "    # Categorize the current frame\n",
    "    category = categorize_brightness(frame)\n",
    "    \n",
    "    # Increment the appropriate counter\n",
    "    if category == \"Day\":\n",
    "        day_count += 1\n",
    "    elif category == \"Evening\":\n",
    "        evening_count += 1\n",
    "    else:\n",
    "        night_count += 1\n",
    "    \n",
    "    total_frames += 1\n",
    "\n",
    "# Release the video capture object\n",
    "cap.release()\n",
    "\n",
    "# Calculate percentages\n",
    "if total_frames > 0:\n",
    "    day_percentage = (day_count / total_frames) * 100\n",
    "    evening_percentage = (evening_count / total_frames) * 100\n",
    "    night_percentage = (night_count / total_frames) * 100\n",
    "\n",
    "    # Print the results\n",
    "    print(f\"Day: {day_percentage:.2f}%\")\n",
    "    print(f\"Evening: {evening_percentage:.2f}%\")\n",
    "    print(f\"Night: {night_percentage:.2f}%\")\n",
    "else:\n",
    "    print(\"No frames processed.\")"
   ]
  },
  {
   "cell_type": "markdown",
   "metadata": {},
   "source": [
    "VISUALIZATION"
   ]
  },
  {
   "cell_type": "code",
   "execution_count": 24,
   "metadata": {},
   "outputs": [
    {
     "data": {
      "image/png": "[encoded data removed]",
      "text/plain": [
       "<Figure size 600x400 with 1 Axes>"
      ]
     },
     "metadata": {},
     "output_type": "display_data"
    }
   ],
   "source": [
    "labels = ['Day', 'Evening', 'Night']\n",
    "counts = [day_count, evening_count, night_count]\n",
    "plt.figure(figsize=(6, 4))\n",
    "plt.bar(labels, counts, color=['yellow', 'orange', 'blue'])\n",
    "plt.title('Count of Frames by Time of Day')\n",
    "plt.xlabel('Time of Day')\n",
    "plt.ylabel('Count of Frames')\n",
    "plt.ylim(0, max(counts) + 8) \n",
    "plt.grid(axis='y')\n",
    "plt.show()"
   ]
  },
  {
   "cell_type": "markdown",
   "metadata": {},
   "source": [
    "Grayscale Pixel Values\n",
    "\n",
    "In a grayscale image, pixel values range from 0 to 255: 0 represents black (no brightness). 255 represents white (maximum brightness). Values in between represent varying shades of gray.\n",
    "Categorization Logic The chosen thresholds are meant to differentiate between bright, medium, and dark conditions:\n",
    "\n",
    "Brightness > 100: This is considered a very bright condition (likely daylight).\n",
    "\n",
    "Brightness > 50 and ≤ 200: This represents a medium brightness, which could be interpreted as evening or\n",
    "twilight conditions.\n",
    "\n",
    "Brightness ≤ 100: This indicates low brightness, typically associated with nighttime."
   ]
  },
  {
   "cell_type": "markdown",
   "metadata": {},
   "source": [
    "USING RGB CHANNELS\n"
   ]
  },
  {
   "cell_type": "code",
   "execution_count": 25,
   "metadata": {},
   "outputs": [
    {
     "name": "stdout",
     "output_type": "stream",
     "text": [
      "Day: 30.62%\n",
      "Evening: 56.57%\n",
      "Night: 12.81%\n"
     ]
    }
   ],
   "source": [
    "# Function to categorize brightness based on RGB channels\n",
    "def categorize_brightness_rgb(frame):\n",
    "    # Split the frame into R, G, and B channels\n",
    "    b, g, r = cv2.split(frame)\n",
    "    \n",
    "    # Calculate average brightness as the mean of R, G, B channels\n",
    "    brightness = (np.mean(r) + np.mean(g) + np.mean(b)) / 3\n",
    "    \n",
    "    # Define thresholds for categorization\n",
    "    if brightness > 100: \n",
    "        return \"Day\"\n",
    "    elif brightness > 50: \n",
    "        return \"Evening\"\n",
    "    else:  \n",
    "        return \"Night\"\n",
    "\n",
    "# Function to analyze color ratios (for example, high red content)\n",
    "def analyze_color_ratios(frame):\n",
    "    b, g, r = cv2.split(frame)\n",
    "    total = np.sum(r) + np.sum(g) + np.sum(b)\n",
    "    \n",
    "    if total == 0:\n",
    "        return 0, 0, 0  # Avoid division by zero\n",
    "    \n",
    "    red_ratio = np.sum(r) / total\n",
    "    green_ratio = np.sum(g) / total\n",
    "    blue_ratio = np.sum(b) / total\n",
    "\n",
    "    return red_ratio, green_ratio, blue_ratio\n",
    "\n",
    "\n",
    "# Input video file path\n",
    "video_path = \"video.mp4\" \n",
    "cap = cv2.VideoCapture(video_path)\n",
    "\n",
    "# Initialize counters\n",
    "day_count = 0\n",
    "evening_count = 0\n",
    "night_count = 0\n",
    "total_frames = 0\n",
    "\n",
    "# Process the video frames\n",
    "while True:\n",
    "    ret, frame = cap.read()\n",
    "    if not ret:\n",
    "        break  \n",
    "\n",
    "    # Categorize the current frame\n",
    "    category = categorize_brightness(frame)\n",
    "    \n",
    "    # Increment the appropriate counter\n",
    "    if category == \"Day\":\n",
    "        day_count += 1\n",
    "    elif category == \"Evening\":\n",
    "        evening_count += 1\n",
    "    else:\n",
    "        night_count += 1\n",
    "    \n",
    "    total_frames += 1\n",
    "\n",
    "# Release the video capture object\n",
    "cap.release()\n",
    "\n",
    "# Calculate percentages\n",
    "if total_frames > 0:\n",
    "    day_percentage = (day_count / total_frames) * 100\n",
    "    evening_percentage = (evening_count / total_frames) * 100\n",
    "    night_percentage = (night_count / total_frames) * 100\n",
    "\n",
    "    # Print the results\n",
    "    print(f\"Day: {day_percentage:.2f}%\")\n",
    "    print(f\"Evening: {evening_percentage:.2f}%\")\n",
    "    print(f\"Night: {night_percentage:.2f}%\")\n",
    "else:\n",
    "    print(\"No frames processed.\")"
   ]
  },
  {
   "cell_type": "markdown",
   "metadata": {},
   "source": [
    "Threshold Ranges\n",
    "\n",
    "High Brightness (Day): A threshold above 100 signifies that the frame is bright enough to be categorized as \"Day.\"\n",
    "\n",
    "Medium Brightness (Evening): A threshold range of 50 to 200 captures frames that are transitioning from daylight to darkness, categorizing them as \"Evening.\"\n",
    "\n",
    "Low Brightness (Night): Values below 100 indicate a lack of light, categorizing frames as \"Night.\""
   ]
  },
  {
   "cell_type": "code",
   "execution_count": 26,
   "metadata": {},
   "outputs": [
    {
     "data": {
      "image/png": "[encoded data removed]",
      "text/plain": [
       "<Figure size 600x400 with 1 Axes>"
      ]
     },
     "metadata": {},
     "output_type": "display_data"
    }
   ],
   "source": [
    "labels = ['Day', 'Evening', 'Night']\n",
    "counts = [day_count, evening_count, night_count]\n",
    "plt.figure(figsize=(6, 4))\n",
    "plt.bar(labels, counts, color=['yellow', 'orange', 'blue'])\n",
    "plt.title('Count of Frames by Time of Day')\n",
    "plt.xlabel('Time of Day')\n",
    "plt.ylabel('Count of Frames')\n",
    "plt.ylim(0, max(counts) + 8) \n",
    "plt.grid(axis='y')\n",
    "plt.show()"
   ]
  },
  {
   "cell_type": "code",
   "execution_count": null,
   "metadata": {},
   "outputs": [],
   "source": []
  },
  {
   "cell_type": "code",
   "execution_count": null,
   "metadata": {},
   "outputs": [],
   "source": []
  }
 ],
 "metadata": {
  "kernelspec": {
   "display_name": "cv_live",
   "language": "python",
   "name": "python3"
  },
  "language_info": {
   "codemirror_mode": {
    "name": "ipython",
    "version": 3
   },
   "file_extension": ".py",
   "mimetype": "text/x-python",
   "name": "python",
   "nbconvert_exporter": "python",
   "pygments_lexer": "ipython3",
   "version": "3.11.10"
  }
 },
 "nbformat": 4,
 "nbformat_minor": 2
}
